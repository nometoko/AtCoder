{
 "cells": [
  {
   "cell_type": "code",
   "execution_count": 13,
   "id": "e3ac580d-c069-4804-8435-55e50a6f507c",
   "metadata": {},
   "outputs": [
    {
     "name": "stdin",
     "output_type": "stream",
     "text": [
      " 10\n",
      " 10 9 8 6 5 10 3 1 2 4 7\n"
     ]
    },
    {
     "name": "stdout",
     "output_type": "stream",
     "text": [
      "10 9 8 6 5 10 2 7 4 3 1\n"
     ]
    }
   ],
   "source": [
    "n = int(input())\n",
    "a = list(map(int,input().split()))\n",
    "b = 0\n",
    "for i in range(n-1):\n",
    "    if a[i]>a[i+1]:\n",
    "        b = i\n",
    "latter = sorted(a[b:],reverse = True)\n",
    "for x in range(len(latter)-1):\n",
    "    if latter[x] == a[b]:\n",
    "        c = [latter[x+1]]\n",
    "        latter.remove(latter[x+1])\n",
    "a = a[:b]+c+sorted(latter, reverse=True)\n",
    "print(' '.join(map(str,a)))"
   ]
  },
  {
   "cell_type": "code",
   "execution_count": null,
   "id": "f1a53f13-9f7e-4401-988a-5bc15518c57b",
   "metadata": {},
   "outputs": [],
   "source": []
  }
 ],
 "metadata": {
  "kernelspec": {
   "display_name": "Python 3 (ipykernel)",
   "language": "python",
   "name": "python3"
  },
  "language_info": {
   "codemirror_mode": {
    "name": "ipython",
    "version": 3
   },
   "file_extension": ".py",
   "mimetype": "text/x-python",
   "name": "python",
   "nbconvert_exporter": "python",
   "pygments_lexer": "ipython3",
   "version": "3.9.13"
  }
 },
 "nbformat": 4,
 "nbformat_minor": 5
}
